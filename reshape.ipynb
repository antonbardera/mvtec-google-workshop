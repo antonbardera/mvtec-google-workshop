{
 "metadata": {
  "language_info": {
   "codemirror_mode": {
    "name": "ipython",
    "version": 3
   },
   "file_extension": ".py",
   "mimetype": "text/x-python",
   "name": "python",
   "nbconvert_exporter": "python",
   "pygments_lexer": "ipython3",
   "version": "3.8.3"
  },
  "orig_nbformat": 2,
  "kernelspec": {
   "name": "python383jvsc74a57bd04b7b2dd4173d2a209853958e179707f82bc7d91748def652697399ba4501fb9f",
   "display_name": "Python 3.8.3 64-bit ('base': conda)"
  }
 },
 "nbformat": 4,
 "nbformat_minor": 2,
 "cells": [
  {
   "cell_type": "code",
   "execution_count": 1,
   "metadata": {},
   "outputs": [],
   "source": [
    "import pandas as pd"
   ]
  },
  {
   "cell_type": "code",
   "execution_count": 2,
   "metadata": {},
   "outputs": [
    {
     "output_type": "execute_result",
     "data": {
      "text/plain": [
       "      month  Addiction  ADHD  Alcoholism  Aleppo  Amazon rainforest  \\\n",
       "0  Jan 2015      11.29  4.65        8.63     0.0               0.00   \n",
       "1  Feb 2015       7.49  3.57        6.78     0.0               0.00   \n",
       "2  Mar 2015      12.96  4.54        7.45     0.0               0.00   \n",
       "3  Apr 2015      11.07  6.04        4.36     0.0               0.00   \n",
       "4  May 2015      10.71  4.54        5.84     0.0               0.32   \n",
       "\n",
       "   Anger management  Anorexia  Anxiety  Australia fires  ...  Self harm  \\\n",
       "0              0.66      1.99     1.66             0.66  ...       1.99   \n",
       "1              0.36      1.43     1.07             0.00  ...       3.57   \n",
       "2              1.30      3.24     0.65             0.00  ...       2.27   \n",
       "3              0.67      2.01     1.34             0.00  ...       1.68   \n",
       "4              0.97      0.97     1.95             0.00  ...       4.54   \n",
       "\n",
       "   Self-esteem  Shortness of breath, covid  Standing Rock  Sudan  \\\n",
       "0         1.66                         0.0            0.0   0.33   \n",
       "1         2.85                         0.0            0.0   0.36   \n",
       "2         4.21                         0.0            0.0   0.00   \n",
       "3         3.69                         0.0            0.0   0.00   \n",
       "4         3.89                         0.0            0.0   0.00   \n",
       "\n",
       "   Suicidal ideation  Syria  Texas  Wildfire  Yemen  \n",
       "0               0.33   0.66   1.00       0.0    0.0  \n",
       "1               0.36   0.71   1.43       0.0    0.0  \n",
       "2               0.32   1.30   2.92       0.0    0.0  \n",
       "3               0.34   1.34   1.01       0.0    0.0  \n",
       "4               0.65   0.32   3.24       0.0    0.0  \n",
       "\n",
       "[5 rows x 63 columns]"
      ],
      "text/html": "<div>\n<style scoped>\n    .dataframe tbody tr th:only-of-type {\n        vertical-align: middle;\n    }\n\n    .dataframe tbody tr th {\n        vertical-align: top;\n    }\n\n    .dataframe thead th {\n        text-align: right;\n    }\n</style>\n<table border=\"1\" class=\"dataframe\">\n  <thead>\n    <tr style=\"text-align: right;\">\n      <th></th>\n      <th>month</th>\n      <th>Addiction</th>\n      <th>ADHD</th>\n      <th>Alcoholism</th>\n      <th>Aleppo</th>\n      <th>Amazon rainforest</th>\n      <th>Anger management</th>\n      <th>Anorexia</th>\n      <th>Anxiety</th>\n      <th>Australia fires</th>\n      <th>...</th>\n      <th>Self harm</th>\n      <th>Self-esteem</th>\n      <th>Shortness of breath, covid</th>\n      <th>Standing Rock</th>\n      <th>Sudan</th>\n      <th>Suicidal ideation</th>\n      <th>Syria</th>\n      <th>Texas</th>\n      <th>Wildfire</th>\n      <th>Yemen</th>\n    </tr>\n  </thead>\n  <tbody>\n    <tr>\n      <th>0</th>\n      <td>Jan 2015</td>\n      <td>11.29</td>\n      <td>4.65</td>\n      <td>8.63</td>\n      <td>0.0</td>\n      <td>0.00</td>\n      <td>0.66</td>\n      <td>1.99</td>\n      <td>1.66</td>\n      <td>0.66</td>\n      <td>...</td>\n      <td>1.99</td>\n      <td>1.66</td>\n      <td>0.0</td>\n      <td>0.0</td>\n      <td>0.33</td>\n      <td>0.33</td>\n      <td>0.66</td>\n      <td>1.00</td>\n      <td>0.0</td>\n      <td>0.0</td>\n    </tr>\n    <tr>\n      <th>1</th>\n      <td>Feb 2015</td>\n      <td>7.49</td>\n      <td>3.57</td>\n      <td>6.78</td>\n      <td>0.0</td>\n      <td>0.00</td>\n      <td>0.36</td>\n      <td>1.43</td>\n      <td>1.07</td>\n      <td>0.00</td>\n      <td>...</td>\n      <td>3.57</td>\n      <td>2.85</td>\n      <td>0.0</td>\n      <td>0.0</td>\n      <td>0.36</td>\n      <td>0.36</td>\n      <td>0.71</td>\n      <td>1.43</td>\n      <td>0.0</td>\n      <td>0.0</td>\n    </tr>\n    <tr>\n      <th>2</th>\n      <td>Mar 2015</td>\n      <td>12.96</td>\n      <td>4.54</td>\n      <td>7.45</td>\n      <td>0.0</td>\n      <td>0.00</td>\n      <td>1.30</td>\n      <td>3.24</td>\n      <td>0.65</td>\n      <td>0.00</td>\n      <td>...</td>\n      <td>2.27</td>\n      <td>4.21</td>\n      <td>0.0</td>\n      <td>0.0</td>\n      <td>0.00</td>\n      <td>0.32</td>\n      <td>1.30</td>\n      <td>2.92</td>\n      <td>0.0</td>\n      <td>0.0</td>\n    </tr>\n    <tr>\n      <th>3</th>\n      <td>Apr 2015</td>\n      <td>11.07</td>\n      <td>6.04</td>\n      <td>4.36</td>\n      <td>0.0</td>\n      <td>0.00</td>\n      <td>0.67</td>\n      <td>2.01</td>\n      <td>1.34</td>\n      <td>0.00</td>\n      <td>...</td>\n      <td>1.68</td>\n      <td>3.69</td>\n      <td>0.0</td>\n      <td>0.0</td>\n      <td>0.00</td>\n      <td>0.34</td>\n      <td>1.34</td>\n      <td>1.01</td>\n      <td>0.0</td>\n      <td>0.0</td>\n    </tr>\n    <tr>\n      <th>4</th>\n      <td>May 2015</td>\n      <td>10.71</td>\n      <td>4.54</td>\n      <td>5.84</td>\n      <td>0.0</td>\n      <td>0.32</td>\n      <td>0.97</td>\n      <td>0.97</td>\n      <td>1.95</td>\n      <td>0.00</td>\n      <td>...</td>\n      <td>4.54</td>\n      <td>3.89</td>\n      <td>0.0</td>\n      <td>0.0</td>\n      <td>0.00</td>\n      <td>0.65</td>\n      <td>0.32</td>\n      <td>3.24</td>\n      <td>0.0</td>\n      <td>0.0</td>\n    </tr>\n  </tbody>\n</table>\n<p>5 rows × 63 columns</p>\n</div>"
     },
     "metadata": {},
     "execution_count": 2
    }
   ],
   "source": [
    "indexA = pd.read_csv('data/help_trends_indexA.csv', sep='\\t')\n",
    "indexA.head()"
   ]
  },
  {
   "cell_type": "code",
   "execution_count": 3,
   "metadata": {},
   "outputs": [
    {
     "output_type": "execute_result",
     "data": {
      "text/plain": [
       "      month  Addiction   ADHD  Alcoholism  Aleppo  Amazon rainforest  \\\n",
       "0  Jan 2015      71.82  48.01       74.28     0.0               0.00   \n",
       "1  Feb 2015      47.67  36.86       58.34     0.0               0.00   \n",
       "2  Mar 2015      82.47  46.86       64.14     0.0               0.00   \n",
       "3  Apr 2015      70.44  62.38       37.53     0.0               0.00   \n",
       "4  May 2015      68.13  46.93       50.27     0.0               1.48   \n",
       "\n",
       "   Anger management  Anorexia  Anxiety  Australia fires  ...  Self harm  \\\n",
       "0             17.14     59.12    21.43             2.64  ...      43.85   \n",
       "1              9.21     42.36    13.82             0.00  ...      78.54   \n",
       "2             33.46     96.18     8.37             0.00  ...      49.93   \n",
       "3             17.32     59.75    17.32             0.00  ...      36.93   \n",
       "4             25.13     28.89    25.13             0.00  ...     100.00   \n",
       "\n",
       "   Self-esteem  Shortness of breath, covid  Standing Rock  Sudan  \\\n",
       "0        34.07                         0.0            0.0   3.08   \n",
       "1        58.58                         0.0            0.0   3.31   \n",
       "2        86.46                         0.0            0.0   0.00   \n",
       "3        75.74                         0.0            0.0   0.00   \n",
       "4        79.92                         0.0            0.0   0.00   \n",
       "\n",
       "   Suicidal ideation  Syria  Texas  Wildfire Yemen  \n",
       "0               8.57   1.58   4.05       0.0   0.0  \n",
       "1               9.21   1.70   5.81       0.0   0.0  \n",
       "2               8.37   3.09  11.87       0.0   0.0  \n",
       "3               8.66   3.20   4.10       0.0   0.0  \n",
       "4              16.76   0.77  13.20       0.0   0.0  \n",
       "\n",
       "[5 rows x 63 columns]"
      ],
      "text/html": "<div>\n<style scoped>\n    .dataframe tbody tr th:only-of-type {\n        vertical-align: middle;\n    }\n\n    .dataframe tbody tr th {\n        vertical-align: top;\n    }\n\n    .dataframe thead th {\n        text-align: right;\n    }\n</style>\n<table border=\"1\" class=\"dataframe\">\n  <thead>\n    <tr style=\"text-align: right;\">\n      <th></th>\n      <th>month</th>\n      <th>Addiction</th>\n      <th>ADHD</th>\n      <th>Alcoholism</th>\n      <th>Aleppo</th>\n      <th>Amazon rainforest</th>\n      <th>Anger management</th>\n      <th>Anorexia</th>\n      <th>Anxiety</th>\n      <th>Australia fires</th>\n      <th>...</th>\n      <th>Self harm</th>\n      <th>Self-esteem</th>\n      <th>Shortness of breath, covid</th>\n      <th>Standing Rock</th>\n      <th>Sudan</th>\n      <th>Suicidal ideation</th>\n      <th>Syria</th>\n      <th>Texas</th>\n      <th>Wildfire</th>\n      <th>Yemen</th>\n    </tr>\n  </thead>\n  <tbody>\n    <tr>\n      <th>0</th>\n      <td>Jan 2015</td>\n      <td>71.82</td>\n      <td>48.01</td>\n      <td>74.28</td>\n      <td>0.0</td>\n      <td>0.00</td>\n      <td>17.14</td>\n      <td>59.12</td>\n      <td>21.43</td>\n      <td>2.64</td>\n      <td>...</td>\n      <td>43.85</td>\n      <td>34.07</td>\n      <td>0.0</td>\n      <td>0.0</td>\n      <td>3.08</td>\n      <td>8.57</td>\n      <td>1.58</td>\n      <td>4.05</td>\n      <td>0.0</td>\n      <td>0.0</td>\n    </tr>\n    <tr>\n      <th>1</th>\n      <td>Feb 2015</td>\n      <td>47.67</td>\n      <td>36.86</td>\n      <td>58.34</td>\n      <td>0.0</td>\n      <td>0.00</td>\n      <td>9.21</td>\n      <td>42.36</td>\n      <td>13.82</td>\n      <td>0.00</td>\n      <td>...</td>\n      <td>78.54</td>\n      <td>58.58</td>\n      <td>0.0</td>\n      <td>0.0</td>\n      <td>3.31</td>\n      <td>9.21</td>\n      <td>1.70</td>\n      <td>5.81</td>\n      <td>0.0</td>\n      <td>0.0</td>\n    </tr>\n    <tr>\n      <th>2</th>\n      <td>Mar 2015</td>\n      <td>82.47</td>\n      <td>46.86</td>\n      <td>64.14</td>\n      <td>0.0</td>\n      <td>0.00</td>\n      <td>33.46</td>\n      <td>96.18</td>\n      <td>8.37</td>\n      <td>0.00</td>\n      <td>...</td>\n      <td>49.93</td>\n      <td>86.46</td>\n      <td>0.0</td>\n      <td>0.0</td>\n      <td>0.00</td>\n      <td>8.37</td>\n      <td>3.09</td>\n      <td>11.87</td>\n      <td>0.0</td>\n      <td>0.0</td>\n    </tr>\n    <tr>\n      <th>3</th>\n      <td>Apr 2015</td>\n      <td>70.44</td>\n      <td>62.38</td>\n      <td>37.53</td>\n      <td>0.0</td>\n      <td>0.00</td>\n      <td>17.32</td>\n      <td>59.75</td>\n      <td>17.32</td>\n      <td>0.00</td>\n      <td>...</td>\n      <td>36.93</td>\n      <td>75.74</td>\n      <td>0.0</td>\n      <td>0.0</td>\n      <td>0.00</td>\n      <td>8.66</td>\n      <td>3.20</td>\n      <td>4.10</td>\n      <td>0.0</td>\n      <td>0.0</td>\n    </tr>\n    <tr>\n      <th>4</th>\n      <td>May 2015</td>\n      <td>68.13</td>\n      <td>46.93</td>\n      <td>50.27</td>\n      <td>0.0</td>\n      <td>1.48</td>\n      <td>25.13</td>\n      <td>28.89</td>\n      <td>25.13</td>\n      <td>0.00</td>\n      <td>...</td>\n      <td>100.00</td>\n      <td>79.92</td>\n      <td>0.0</td>\n      <td>0.0</td>\n      <td>0.00</td>\n      <td>16.76</td>\n      <td>0.77</td>\n      <td>13.20</td>\n      <td>0.0</td>\n      <td>0.0</td>\n    </tr>\n  </tbody>\n</table>\n<p>5 rows × 63 columns</p>\n</div>"
     },
     "metadata": {},
     "execution_count": 3
    }
   ],
   "source": [
    "indexB = pd.read_csv('data/help_trends_indexB.csv')\n",
    "indexB.head()"
   ]
  },
  {
   "cell_type": "code",
   "execution_count": 4,
   "metadata": {},
   "outputs": [
    {
     "output_type": "execute_result",
     "data": {
      "text/plain": [
       "          month       term  value\n",
       "0    2015-01-01  Addiction  11.29\n",
       "1    2015-02-01  Addiction   7.49\n",
       "2    2015-03-01  Addiction  12.96\n",
       "3    2015-04-01  Addiction  11.07\n",
       "4    2015-05-01  Addiction  10.71\n",
       "...         ...        ...    ...\n",
       "4769 2021-01-01      Yemen   0.47\n",
       "4770 2021-02-01      Yemen   2.06\n",
       "4771 2021-03-01      Yemen   1.13\n",
       "4772 2021-04-01      Yemen   0.00\n",
       "4773 2021-05-01      Yemen   0.00\n",
       "\n",
       "[4774 rows x 3 columns]"
      ],
      "text/html": "<div>\n<style scoped>\n    .dataframe tbody tr th:only-of-type {\n        vertical-align: middle;\n    }\n\n    .dataframe tbody tr th {\n        vertical-align: top;\n    }\n\n    .dataframe thead th {\n        text-align: right;\n    }\n</style>\n<table border=\"1\" class=\"dataframe\">\n  <thead>\n    <tr style=\"text-align: right;\">\n      <th></th>\n      <th>month</th>\n      <th>term</th>\n      <th>value</th>\n    </tr>\n  </thead>\n  <tbody>\n    <tr>\n      <th>0</th>\n      <td>2015-01-01</td>\n      <td>Addiction</td>\n      <td>11.29</td>\n    </tr>\n    <tr>\n      <th>1</th>\n      <td>2015-02-01</td>\n      <td>Addiction</td>\n      <td>7.49</td>\n    </tr>\n    <tr>\n      <th>2</th>\n      <td>2015-03-01</td>\n      <td>Addiction</td>\n      <td>12.96</td>\n    </tr>\n    <tr>\n      <th>3</th>\n      <td>2015-04-01</td>\n      <td>Addiction</td>\n      <td>11.07</td>\n    </tr>\n    <tr>\n      <th>4</th>\n      <td>2015-05-01</td>\n      <td>Addiction</td>\n      <td>10.71</td>\n    </tr>\n    <tr>\n      <th>...</th>\n      <td>...</td>\n      <td>...</td>\n      <td>...</td>\n    </tr>\n    <tr>\n      <th>4769</th>\n      <td>2021-01-01</td>\n      <td>Yemen</td>\n      <td>0.47</td>\n    </tr>\n    <tr>\n      <th>4770</th>\n      <td>2021-02-01</td>\n      <td>Yemen</td>\n      <td>2.06</td>\n    </tr>\n    <tr>\n      <th>4771</th>\n      <td>2021-03-01</td>\n      <td>Yemen</td>\n      <td>1.13</td>\n    </tr>\n    <tr>\n      <th>4772</th>\n      <td>2021-04-01</td>\n      <td>Yemen</td>\n      <td>0.00</td>\n    </tr>\n    <tr>\n      <th>4773</th>\n      <td>2021-05-01</td>\n      <td>Yemen</td>\n      <td>0.00</td>\n    </tr>\n  </tbody>\n</table>\n<p>4774 rows × 3 columns</p>\n</div>"
     },
     "metadata": {},
     "execution_count": 4
    }
   ],
   "source": [
    "indexA_long = pd.melt(frame=indexA, id_vars=['month'], var_name='term', value_name='value')\n",
    "indexA_long['month'] = pd.to_datetime(indexA_long['month'])\n",
    "indexA_long"
   ]
  },
  {
   "cell_type": "code",
   "execution_count": 5,
   "metadata": {},
   "outputs": [
    {
     "output_type": "stream",
     "name": "stdout",
     "text": [
      "<class 'pandas.core.frame.DataFrame'>\nRangeIndex: 4774 entries, 0 to 4773\nData columns (total 3 columns):\n #   Column  Non-Null Count  Dtype         \n---  ------  --------------  -----         \n 0   month   4774 non-null   datetime64[ns]\n 1   term    4774 non-null   object        \n 2   value   4774 non-null   object        \ndtypes: datetime64[ns](1), object(2)\nmemory usage: 112.0+ KB\n"
     ]
    }
   ],
   "source": [
    "indexB_long = pd.melt(frame=indexB, id_vars=['month'], var_name='term', value_name='value')\n",
    "indexB_long['month'] = pd.to_datetime(indexB_long['month'])\n",
    "indexB_long.info()"
   ]
  },
  {
   "cell_type": "code",
   "execution_count": 6,
   "metadata": {},
   "outputs": [],
   "source": [
    "indexA_long.to_csv('data/indexA_long.csv', index=False)\n",
    "indexB_long.to_csv('data/indexB_long.csv', index=False)"
   ]
  },
  {
   "cell_type": "code",
   "execution_count": null,
   "metadata": {},
   "outputs": [],
   "source": []
  }
 ]
}